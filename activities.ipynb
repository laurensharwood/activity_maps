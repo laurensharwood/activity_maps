{
  "cells": [
    {
      "cell_type": "markdown",
      "id": "37bee68f-ac79-44cb-beff-902e77f11cf4",
      "metadata": {
        "id": "37bee68f-ac79-44cb-beff-902e77f11cf4"
      },
      "source": [
        "## [ACTIVITY MAPS](https://github.com/laurensharwood/activity_maps/tree/main) GOOGLE COLAB WORKFLOW\n",
        "\n",
        "After filling out your information in ```params.csv``` and uploading the ```activity_maps-main``` folder to Google Drive\n",
        "\n",
        "<b>To run all cells:</b>  \n",
        "```Runtime``` > ```Run All```\n",
        "\n",
        "<b>To run a single cell:</b>  \n",
        "Click inside the cell so the cursor is blinking, then press ```ctrl+enter``` or ```shift+enter```, or click that cell's arrow\n",
        "<br><br>"
      ]
    },
    {
      "cell_type": "markdown",
      "id": "7yLVR71qAeTr",
      "metadata": {
        "id": "7yLVR71qAeTr"
      },
      "source": [
        "\n",
        "1. Run the cell below to connect to Google Drive storage\n",
        "* Select ```Connect to Google Drive```  > Select your gmail account > Continue\n",
        "* If you changed ```params.csv```, run this cell to use the changed files\n"
      ]
    },
    {
      "cell_type": "code",
      "execution_count": null,
      "id": "0cdb0eec-9f36-4ed1-9d3c-69f812fe54c7",
      "metadata": {
        "colab": {
          "base_uri": "https://localhost:8080/"
        },
        "id": "0cdb0eec-9f36-4ed1-9d3c-69f812fe54c7",
        "outputId": "1e895185-21d0-4232-b120-d9ef834103d2"
      },
      "outputs": [
        {
          "output_type": "stream",
          "name": "stdout",
          "text": [
            "Mounted at /content/drive\n"
          ]
        }
      ],
      "source": [
        "from google.colab import drive\n",
        "\n",
        "drive.mount('/content/drive', force_remount=True)"
      ]
    },
    {
      "cell_type": "markdown",
      "id": "NH82wMPr7-FN",
      "metadata": {
        "id": "NH82wMPr7-FN"
      },
      "source": [
        "2. Running the following cell will perform the following tasks:  \n",
        "  i) move into My Drive— the directory where ```activities.ipynb```, ```activities.py```, and ```params.csv``` files are located. The first line in the cell below states that ```activity_maps-main``` is in the outermost / root directory of My Drive.    \n",
        "  ii) Install and import necessary packages.    \n",
        "  iii) Execute ```activities.py```, which reads ```params.csv``` to download you Garmin activity files, save parsed .gpx & .tcx activity information to a .csv, then create maps from that .csv. <b>Enter your Garmin Connect credentials</b> to the right of ```Login e-mail:``` then ```Enter password:``` when prompted (after calplot is imported).   \n",
        "\n",
        "  \n"
      ]
    },
    {
      "cell_type": "code",
      "execution_count": null,
      "id": "SiaSfQZVWdL7",
      "metadata": {
        "id": "SiaSfQZVWdL7"
      },
      "outputs": [],
      "source": [
        "## i) may need to change to directory where files are located -- in this case, the activity_maps-main folder within the root directory of my Google Drive\n",
        "%cd /content/drive/MyDrive/activity_maps-main\n",
        "\n",
        "## DO NOT CHANGE BELOW\n",
        "## ii) install packages\n",
        "try:\n",
        "  import garth\n",
        "  import tcxreader\n",
        "  import calplot\n",
        "except:\n",
        "  !pip install garth\n",
        "  !pip install tcxreader\n",
        "  !pip install calplot\n",
        "  import garth\n",
        "  import tcxreader\n",
        "  import calplot\n",
        "\n",
        "## iii) download files, parse, & make maps\n",
        "!python activities.py"
      ]
    },
    {
      "cell_type": "markdown",
      "source": [
        "\n",
        "Troubleshooting:\n",
        "* Google Drive account, My Drive, not mounting?\n",
        "  * *You may have too many files in the root directory of My Drive or not enough storage available*\n",
        "<br><br>\n",
        "* Cell won't stop running?  \n",
        "  * Press Stop circle located where the Run circle was, or\n",
        "  * Select the ```Runtime``` dropdown > ```Interrupt execution```\n",
        "<br><br>\n",
        "* Not sure?\n",
        "  * Restart runtime: Select the ```Runtime``` dropdown > ```Disconnect and delete runtime```\n",
        "  * Delete the archive folder and rerun the script for the full length of your archive (no maximum number for ```Number of days``` parameter in ```params.csv```, can use 99999 to download your entire activity history)"
      ],
      "metadata": {
        "id": "U0GVwwmk5g-q"
      },
      "id": "U0GVwwmk5g-q"
    }
  ],
  "metadata": {
    "colab": {
      "provenance": []
    },
    "kernelspec": {
      "display_name": ".working311",
      "language": "python",
      "name": ".working311"
    },
    "language_info": {
      "codemirror_mode": {
        "name": "ipython",
        "version": 3
      },
      "file_extension": ".py",
      "mimetype": "text/x-python",
      "name": "python",
      "nbconvert_exporter": "python",
      "pygments_lexer": "ipython3",
      "version": "3.11.9"
    }
  },
  "nbformat": 4,
  "nbformat_minor": 5
}