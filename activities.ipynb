{
  "cells": [
    {
      "cell_type": "markdown",
      "id": "37bee68f-ac79-44cb-beff-902e77f11cf4",
      "metadata": {
        "id": "37bee68f-ac79-44cb-beff-902e77f11cf4"
      },
      "source": [
        "## [ACTIVITY MAPS](https://github.com/laurensharwood/activity_maps/tree/main) GOOGLE COLAB WORKFLOW\n",
        "\n",
        "<b>To run a single cell:</b>  \n",
        "Click inside the cell so the cursor is blinking, then press *ctrl+enter* or *shift+enter*, or click that cell's arrow\n",
        "<br><br>\n",
        "Troubleshooting:\n",
        "* Google Drive account, My Drive, not mounting?\n",
        "  * *You may have too many files in the root directory of My Drive or not enough storage available*\n",
        "<br><br>\n",
        "* Cell won't stop running?  \n",
        "  * Press Stop circle located where the Run circle was, or\n",
        "  * Select the ```Runtime``` dropdown > ```Interrupt execution```\n",
        "<br><br>\n",
        "* Not sure?\n",
        "  * Restart runtime: Select the ```Runtime``` dropdown > ```Disconnect and delete runtime```"
      ]
    },
    {
      "cell_type": "markdown",
      "source": [
        "\n",
        "1. Run the cell below to connect to Google Drive storage\n"
      ],
      "metadata": {
        "id": "7yLVR71qAeTr"
      },
      "id": "7yLVR71qAeTr"
    },
    {
      "cell_type": "code",
      "execution_count": null,
      "id": "0cdb0eec-9f36-4ed1-9d3c-69f812fe54c7",
      "metadata": {
        "id": "0cdb0eec-9f36-4ed1-9d3c-69f812fe54c7"
      },
      "outputs": [],
      "source": [
        "from google.colab import drive\n",
        "\n",
        "drive.mount('/content/drive', force_remount=True)"
      ]
    },
    {
      "cell_type": "markdown",
      "source": [
        "2. Run the cell below to:  \n",
        "  i) move into My Drive— the directory where ```activities.ipynb```, ```activities.py```, and ```params.csv``` files are located.  \n",
        "  ii) install and import necessary packages, then  \n",
        "  iii) execute ```activities.py```, which will ask for your garmin email and password: <b>*enter your credentials when prompted*</b>, then read ```params.csv``` to download you Garmin activity files, save parsed .gpx & .tcx activity information to a .csv, and finally create maps from that .csv.  \n",
        "\n",
        "  \n"
      ],
      "metadata": {
        "id": "NH82wMPr7-FN"
      },
      "id": "NH82wMPr7-FN"
    },
    {
      "cell_type": "code",
      "execution_count": null,
      "id": "SiaSfQZVWdL7",
      "metadata": {
        "id": "SiaSfQZVWdL7"
      },
      "outputs": [],
      "source": [
        "## i) may need to change to directory where files are located -- in this case, the activity_maps-main folder within the root directory of my Google Drive\n",
        "%cd /content/drive/MyDrive/activity_maps-main\n",
        "\n",
        "## DO NOT CHANGE BELOW\n",
        "## ii) install packages\n",
        "try:\n",
        "  import garth\n",
        "  import gpxpy\n",
        "  import tcxreader\n",
        "  import calplot\n",
        "except:\n",
        "  !pip install garth\n",
        "  !pip install gpxpy\n",
        "  !pip install tcxreader\n",
        "  !pip install calplot\n",
        "  import garth\n",
        "  import gpxpy\n",
        "  import tcxreader\n",
        "  import calplot\n",
        "\n",
        "## iii) download files, parse, & make maps\n",
        "!python activities.py"
      ]
    }
  ],
  "metadata": {
    "colab": {
      "provenance": []
    },
    "kernelspec": {
      "display_name": ".working311",
      "language": "python",
      "name": ".working311"
    },
    "language_info": {
      "codemirror_mode": {
        "name": "ipython",
        "version": 3
      },
      "file_extension": ".py",
      "mimetype": "text/x-python",
      "name": "python",
      "nbconvert_exporter": "python",
      "pygments_lexer": "ipython3",
      "version": "3.11.9"
    }
  },
  "nbformat": 4,
  "nbformat_minor": 5
}